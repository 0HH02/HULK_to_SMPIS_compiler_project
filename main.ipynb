{
 "cells": [
  {
   "cell_type": "code",
   "execution_count": 1,
   "metadata": {},
   "outputs": [],
   "source": [
    "\"\"\"\n",
    "\"\"\"\n",
    "\n",
    "import time\n",
    "from hulk_compiler.lexer.token import Token\n",
    "from hulk_compiler.parser.ast.ast import ASTNode\n",
    "from hulk_compiler.parser.grammar.hulk import get_hulk_grammar\n",
    "from hulk_compiler.parser.parser_lr1 import ParserLR1\n",
    "from hulk_compiler.lexer.lexer import Lexer\n",
    "from hulk_compiler.lexer.hulk_token_patterns import TOKEN_PATTERNS\n",
    "from testers.semantic_analizer import AST1, AST3\n",
    "from hulk_compiler.semantic_analizer.visitor import TypeCollector\n",
    "from hulk_compiler.semantic_analizer.context import Context\n",
    "from hulk_compiler.semantic_analizer.visitor import ASTPrinter\n",
    "\n",
    "lexer = Lexer(TOKEN_PATTERNS)\n",
    "\n",
    "grammar, mapping = get_hulk_grammar()\n",
    "\n",
    "parser = ParserLR1(grammar, mapping)"
   ]
  },
  {
   "cell_type": "code",
   "execution_count": 5,
   "metadata": {},
   "outputs": [
    {
     "ename": "IndexError",
     "evalue": "list index out of range",
     "output_type": "error",
     "traceback": [
      "\u001b[1;31m---------------------------------------------------------------------------\u001b[0m",
      "\u001b[1;31mIndexError\u001b[0m                                Traceback (most recent call last)",
      "Cell \u001b[1;32mIn[5], line 23\u001b[0m\n\u001b[0;32m     18\u001b[0m tokens: \u001b[38;5;28mlist\u001b[39m[Token] \u001b[38;5;241m=\u001b[39m lexer\u001b[38;5;241m.\u001b[39mtokenize(PROGRAM)\n\u001b[0;32m     20\u001b[0m start_time \u001b[38;5;241m=\u001b[39m time\u001b[38;5;241m.\u001b[39mtime()\n\u001b[1;32m---> 23\u001b[0m ast: ASTNode \u001b[38;5;241m=\u001b[39m \u001b[43mparser\u001b[49m\u001b[38;5;241;43m.\u001b[39;49m\u001b[43mparse\u001b[49m\u001b[43m(\u001b[49m\u001b[43mtokens\u001b[49m\u001b[43m)\u001b[49m\n\u001b[0;32m     24\u001b[0m ASTPrinter\u001b[38;5;241m.\u001b[39mvisit_node(ast, \u001b[38;5;241m0\u001b[39m)\n\u001b[0;32m     26\u001b[0m end_time \u001b[38;5;241m=\u001b[39m time\u001b[38;5;241m.\u001b[39mtime()\n",
      "File \u001b[1;32mc:\\HH\\Escuela\\Compiler\\My-Compiler\\HULK_to_SMPIS_compiler_project\\hulk_compiler\\parser\\parser_lr1.py:78\u001b[0m, in \u001b[0;36mParserLR1.parse\u001b[1;34m(self, tokens)\u001b[0m\n\u001b[0;32m     73\u001b[0m body_token_values \u001b[38;5;241m=\u001b[39m [\n\u001b[0;32m     74\u001b[0m     token_stack\u001b[38;5;241m.\u001b[39mpop()[\u001b[38;5;241m1\u001b[39m] \u001b[38;5;28;01mfor\u001b[39;00m _ \u001b[38;5;129;01min\u001b[39;00m \u001b[38;5;28mrange\u001b[39m(\u001b[38;5;28mlen\u001b[39m(action\u001b[38;5;241m.\u001b[39mbody))\n\u001b[0;32m     75\u001b[0m ]\n\u001b[0;32m     76\u001b[0m body_token_values\u001b[38;5;241m.\u001b[39mreverse()\n\u001b[1;32m---> 78\u001b[0m value \u001b[38;5;241m=\u001b[39m \u001b[43maction\u001b[49m\u001b[38;5;241;43m.\u001b[39;49m\u001b[43mbody\u001b[49m\u001b[38;5;241;43m.\u001b[39;49m\u001b[43mattributation\u001b[49m\u001b[43m(\u001b[49m\u001b[43mbody_token_values\u001b[49m\u001b[43m)\u001b[49m\n\u001b[0;32m     80\u001b[0m \u001b[38;5;28;01mfor\u001b[39;00m _ \u001b[38;5;129;01min\u001b[39;00m \u001b[38;5;28mrange\u001b[39m(\u001b[38;5;28mlen\u001b[39m(action\u001b[38;5;241m.\u001b[39mbody)):\n\u001b[0;32m     81\u001b[0m     state_stack\u001b[38;5;241m.\u001b[39mpop()\n",
      "File \u001b[1;32mc:\\HH\\Escuela\\Compiler\\My-Compiler\\HULK_to_SMPIS_compiler_project\\hulk_compiler\\parser\\grammar\\hulk.py:377\u001b[0m, in \u001b[0;36mget_hulk_grammar.<locals>.<lambda>\u001b[1;34m(s)\u001b[0m\n\u001b[0;32m    308\u001b[0m define_statement \u001b[38;5;241m<\u001b[39m\u001b[38;5;241m=\u001b[39m (\n\u001b[0;32m    309\u001b[0m     function_terminal \u001b[38;5;241m+\u001b[39m function_definition \u001b[38;5;241m|\u001b[39m type_definition \u001b[38;5;241m|\u001b[39m protocol_definition,\n\u001b[0;32m    310\u001b[0m     (\n\u001b[1;32m   (...)\u001b[0m\n\u001b[0;32m    314\u001b[0m     ),\n\u001b[0;32m    315\u001b[0m )\n\u001b[0;32m    317\u001b[0m type_definition \u001b[38;5;241m<\u001b[39m\u001b[38;5;241m=\u001b[39m (\n\u001b[0;32m    318\u001b[0m     type_terminal\n\u001b[0;32m    319\u001b[0m     \u001b[38;5;241m+\u001b[39m identifier\n\u001b[1;32m   (...)\u001b[0m\n\u001b[0;32m    370\u001b[0m     ),\n\u001b[0;32m    371\u001b[0m )\n\u001b[0;32m    373\u001b[0m type_body \u001b[38;5;241m<\u001b[39m\u001b[38;5;241m=\u001b[39m (\n\u001b[0;32m    374\u001b[0m     \u001b[38;5;241m~\u001b[39mtype_body \u001b[38;5;241m+\u001b[39m attribute_definition \u001b[38;5;241m|\u001b[39m \u001b[38;5;241m~\u001b[39mtype_body \u001b[38;5;241m+\u001b[39m function_definition,\n\u001b[0;32m    375\u001b[0m     (\n\u001b[0;32m    376\u001b[0m         \u001b[38;5;28;01mlambda\u001b[39;00m s: s[\u001b[38;5;241m0\u001b[39m] \u001b[38;5;241m+\u001b[39m [s[\u001b[38;5;241m1\u001b[39m]],\n\u001b[1;32m--> 377\u001b[0m         \u001b[38;5;28;01mlambda\u001b[39;00m s: [\u001b[43ms\u001b[49m\u001b[43m[\u001b[49m\u001b[38;5;241;43m1\u001b[39;49m\u001b[43m]\u001b[49m],\n\u001b[0;32m    378\u001b[0m         \u001b[38;5;28;01mlambda\u001b[39;00m s: s[\u001b[38;5;241m0\u001b[39m] \u001b[38;5;241m+\u001b[39m [s[\u001b[38;5;241m1\u001b[39m]],\n\u001b[0;32m    379\u001b[0m         \u001b[38;5;28;01mlambda\u001b[39;00m s: [s[\u001b[38;5;241m0\u001b[39m]],\n\u001b[0;32m    380\u001b[0m     ),\n\u001b[0;32m    381\u001b[0m )\n\u001b[0;32m    383\u001b[0m attribute_definition \u001b[38;5;241m<\u001b[39m\u001b[38;5;241m=\u001b[39m (\n\u001b[0;32m    384\u001b[0m     identifier \u001b[38;5;241m+\u001b[39m \u001b[38;5;241m~\u001b[39mtype_declaration \u001b[38;5;241m+\u001b[39m assignment_terminal \u001b[38;5;241m+\u001b[39m expression \u001b[38;5;241m+\u001b[39m semicolon,\n\u001b[0;32m    385\u001b[0m     (\n\u001b[1;32m   (...)\u001b[0m\n\u001b[0;32m    388\u001b[0m     ),\n\u001b[0;32m    389\u001b[0m )\n\u001b[0;32m    390\u001b[0m type_arguments \u001b[38;5;241m<\u001b[39m\u001b[38;5;241m=\u001b[39m (\n\u001b[0;32m    391\u001b[0m     open_parenthesis \u001b[38;5;241m+\u001b[39m \u001b[38;5;241m~\u001b[39margument_list_definition \u001b[38;5;241m+\u001b[39m close_parenthesis,\n\u001b[0;32m    392\u001b[0m     (\n\u001b[1;32m   (...)\u001b[0m\n\u001b[0;32m    395\u001b[0m     ),\n\u001b[0;32m    396\u001b[0m )\n",
      "\u001b[1;31mIndexError\u001b[0m: list index out of range"
     ]
    }
   ],
   "source": [
    "\n",
    "PROGRAM = \"\"\"\n",
    "type Point() {\n",
    "    x = 0;\n",
    "    y = 0;\n",
    "\n",
    "    getX() => self.x;\n",
    "    getY() => self.y;\n",
    "\n",
    "    setX(x: Number) => self.x := x;\n",
    "    setY(y: Number) => self.y := y;\n",
    "}\n",
    "\n",
    "let pt = new Point() in\n",
    "    print(\"x: \" @ pt.getX() @ \"; y: \" @ pt.setY(4));\n",
    "    \"\"\"\n",
    "\n",
    "\n",
    "tokens: list[Token] = lexer.tokenize(PROGRAM)\n",
    "\n",
    "start_time = time.time()\n",
    "\n",
    "\n",
    "ast: ASTNode = parser.parse(tokens)\n",
    "ASTPrinter.visit_node(ast, 0)\n",
    "\n",
    "end_time = time.time()\n",
    "execution_time = end_time - start_time\n",
    "\n",
    "print(f\"Execution time: {execution_time} seconds\")\n"
   ]
  }
 ],
 "metadata": {
  "kernelspec": {
   "display_name": "Python 3",
   "language": "python",
   "name": "python3"
  },
  "language_info": {
   "codemirror_mode": {
    "name": "ipython",
    "version": 3
   },
   "file_extension": ".py",
   "mimetype": "text/x-python",
   "name": "python",
   "nbconvert_exporter": "python",
   "pygments_lexer": "ipython3",
   "version": "3.12.1"
  }
 },
 "nbformat": 4,
 "nbformat_minor": 2
}
