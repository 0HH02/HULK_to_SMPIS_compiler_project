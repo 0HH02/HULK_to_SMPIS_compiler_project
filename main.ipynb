{
 "cells": [
  {
   "cell_type": "code",
   "execution_count": 1,
   "metadata": {},
   "outputs": [],
   "source": [
    "\"\"\"\n",
    "\"\"\"\n",
    "\n",
    "import time\n",
    "from hulk_compiler.lexer.token import Token\n",
    "from hulk_compiler.parser.ast.ast import ASTNode\n",
    "from hulk_compiler.parser.grammar.hulk import get_hulk_grammar\n",
    "from hulk_compiler.parser.parser_lr1 import ParserLR1\n",
    "from hulk_compiler.lexer.lexer import Lexer\n",
    "from hulk_compiler.lexer.hulk_token_patterns import TOKEN_PATTERNS\n",
    "from hulk_compiler.parser.ast.ast_printer import ASTPrinter\n",
    "\n",
    "lexer = Lexer(TOKEN_PATTERNS)\n",
    "\n",
    "grammar, mapping = get_hulk_grammar()\n",
    "\n",
    "parser = ParserLR1(grammar, mapping)"
   ]
  },
  {
   "cell_type": "code",
   "execution_count": 2,
   "metadata": {},
   "outputs": [
    {
     "ename": "KeyError",
     "evalue": "{",
     "output_type": "error",
     "traceback": [
      "\u001b[1;31m---------------------------------------------------------------------------\u001b[0m",
      "\u001b[1;31mKeyError\u001b[0m                                  Traceback (most recent call last)",
      "Cell \u001b[1;32mIn[2], line 23\u001b[0m\n\u001b[0;32m     18\u001b[0m tokens: \u001b[38;5;28mlist\u001b[39m[Token] \u001b[38;5;241m=\u001b[39m lexer\u001b[38;5;241m.\u001b[39mtokenize(PROGRAM)\n\u001b[0;32m     20\u001b[0m start_time \u001b[38;5;241m=\u001b[39m time\u001b[38;5;241m.\u001b[39mtime()\n\u001b[1;32m---> 23\u001b[0m ast: ASTNode \u001b[38;5;241m=\u001b[39m \u001b[43mparser\u001b[49m\u001b[38;5;241;43m.\u001b[39;49m\u001b[43mparse\u001b[49m\u001b[43m(\u001b[49m\u001b[43mtokens\u001b[49m\u001b[43m)\u001b[49m\n\u001b[0;32m     24\u001b[0m ASTPrinter\u001b[38;5;241m.\u001b[39mvisit_node(ast)\n\u001b[0;32m     26\u001b[0m end_time \u001b[38;5;241m=\u001b[39m time\u001b[38;5;241m.\u001b[39mtime()\n",
      "File \u001b[1;32mc:\\Users\\erz10\\Documents\\HULK_to_SMPIS_compiler_project\\hulk_compiler\\parser\\parser_lr1.py:66\u001b[0m, in \u001b[0;36mParserLR1.parse\u001b[1;34m(self, tokens)\u001b[0m\n\u001b[0;32m     64\u001b[0m state \u001b[38;5;241m=\u001b[39m state_stack[\u001b[38;5;241m-\u001b[39m\u001b[38;5;241m1\u001b[39m]\n\u001b[0;32m     65\u001b[0m token \u001b[38;5;241m=\u001b[39m tokens[i]\n\u001b[1;32m---> 66\u001b[0m action: ParsingAction \u001b[38;5;241m=\u001b[39m \u001b[38;5;28;43mself\u001b[39;49m\u001b[38;5;241;43m.\u001b[39;49m\u001b[43m_action_table\u001b[49m\u001b[43m[\u001b[49m\u001b[43mstate\u001b[49m\u001b[43m]\u001b[49m\u001b[43m[\u001b[49m\u001b[43mtoken\u001b[49m\u001b[43m[\u001b[49m\u001b[38;5;241;43m0\u001b[39;49m\u001b[43m]\u001b[49m\u001b[43m]\u001b[49m\n\u001b[0;32m     67\u001b[0m \u001b[38;5;28;01mif\u001b[39;00m \u001b[38;5;28misinstance\u001b[39m(action, Shift):\n\u001b[0;32m     68\u001b[0m     token_stack\u001b[38;5;241m.\u001b[39mappend(token)\n",
      "\u001b[1;31mKeyError\u001b[0m: {"
     ]
    }
   ],
   "source": [
    "PROGRAM = \"\"\"\n",
    "type Point {\n",
    "    x = 0;\n",
    "    y = 0;\n",
    "\n",
    "    getX() => self.x;\n",
    "    getY() => self.y;\n",
    "\n",
    "    setX(x: Number) => self.x := x;\n",
    "    setY(y: Number) => self.y := y;\n",
    "}\n",
    "\n",
    "let pt = new Point() in\n",
    "    print(\"x: \" @ pt.getX() @ \"; y: \" @ pt.setY(4));\n",
    "    \"\"\"\n",
    "\n",
    "\n",
    "tokens: list[Token] = lexer.tokenize(PROGRAM)\n",
    "\n",
    "start_time = time.time()\n",
    "\n",
    "\n",
    "ast: ASTNode = parser.parse(tokens)\n",
    "ASTPrinter.visit_node(ast)\n",
    "\n",
    "end_time = time.time()\n",
    "execution_time = end_time - start_time\n",
    "\n",
    "print(f\"Execution time: {execution_time} seconds\")"
   ]
  }
 ],
 "metadata": {
  "kernelspec": {
   "display_name": "Python 3",
   "language": "python",
   "name": "python3"
  },
  "language_info": {
   "codemirror_mode": {
    "name": "ipython",
    "version": 3
   },
   "file_extension": ".py",
   "mimetype": "text/x-python",
   "name": "python",
   "nbconvert_exporter": "python",
   "pygments_lexer": "ipython3",
   "version": "3.12.1"
  }
 },
 "nbformat": 4,
 "nbformat_minor": 2
}
