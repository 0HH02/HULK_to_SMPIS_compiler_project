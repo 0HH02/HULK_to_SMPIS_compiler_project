{
 "cells": [
  {
   "cell_type": "code",
   "execution_count": 4,
   "metadata": {},
   "outputs": [
    {
     "name": "stdout",
     "output_type": "stream",
     "text": [
      "{< program --> .statement , $ > , < program --> .head_programstatement , $ > }\n",
      "Execution time: 29.595751762390137 seconds\n"
     ]
    }
   ],
   "source": [
    "\"\"\"\n",
    "\"\"\"\n",
    "\n",
    "# pylint: disable=pointless-statement\n",
    "\n",
    "from hulk_compiler.lexer.token import Token\n",
    "from hulk_compiler.parser.grammar.grammar import Grammar\n",
    "from hulk_compiler.parser.grammar.hulk import get_hulk_grammar\n",
    "from hulk_compiler.parser.parser_lr1 import ParserLR1\n",
    "from hulk_compiler.lexer.lexer import Lexer\n",
    "from hulk_compiler.lexer.hulk_token_patterns import TOKEN_PATTERNS\n",
    "import time\n",
    "\n",
    "\n",
    "lexer = Lexer(TOKEN_PATTERNS)\n",
    "\n",
    "\n",
    "start_time = time.time()\n",
    "\n",
    "grammar, mapping = get_hulk_grammar()\n",
    "parser = ParserLR1(grammar, mapping)\n",
    "\n",
    "\n",
    "end_time = time.time()\n",
    "execution_time = end_time - start_time\n",
    "\n",
    "print(f\"Execution time: {execution_time} seconds\")"
   ]
  },
  {
   "cell_type": "code",
   "execution_count": 6,
   "metadata": {},
   "outputs": [
    {
     "name": "stdout",
     "output_type": "stream",
     "text": [
      "[(literal, [number]), (primary_expression, [literal]), (unary_expression, [primary_expression]), (exponential_expression, [unary_expression]), (mult_expression, [exponential_expression]), (aritmetic_expression, [mult_expression]), (concat_expression, [aritmetic_expression]), (relational_expression, [concat_expression]), (equality_expression, [relational_expression]), (literal, [number]), (primary_expression, [literal]), (unary_expression, [primary_expression]), (exponential_expression, [unary_expression]), (mult_expression, [exponential_expression]), (aritmetic_expression, [mult_expression]), (concat_expression, [aritmetic_expression]), (relational_expression, [concat_expression]), (equality_expression, [equality_expression, ==, relational_expression]), (and_expression, [equality_expression]), (or_expression, [and_expression]), (expression, [or_expression]), (literal, [number]), (primary_expression, [literal]), (unary_expression, [primary_expression]), (exponential_expression, [unary_expression]), (mult_expression, [exponential_expression]), (aritmetic_expression, [mult_expression]), (concat_expression, [aritmetic_expression]), (relational_expression, [concat_expression]), (equality_expression, [relational_expression]), (and_expression, [equality_expression]), (or_expression, [and_expression]), (expression, [or_expression]), (literal, [number]), (primary_expression, [literal]), (unary_expression, [primary_expression]), (exponential_expression, [unary_expression]), (mult_expression, [exponential_expression]), (aritmetic_expression, [mult_expression]), (concat_expression, [aritmetic_expression]), (relational_expression, [concat_expression]), (equality_expression, [relational_expression]), (and_expression, [equality_expression]), (or_expression, [and_expression]), (statement, [or_expression, ;]), (if_statement, [if, (, expression, ), expression, else, statement]), (control_statement, [if_statement]), (statement, [control_statement])]\n"
     ]
    }
   ],
   "source": [
    "PROGRAM = \"\"\"\n",
    "    if (4==4)\n",
    "       2\n",
    "    else\n",
    "        4; \n",
    "    \"\"\"\n",
    "\n",
    "tokens: list[Token] = lexer.tokenize(PROGRAM)\n",
    "\n",
    "print(parser.parse(tokens))"
   ]
  },
  {
   "cell_type": "code",
   "execution_count": 1,
   "metadata": {},
   "outputs": [],
   "source": [
    "\"\"\"\n",
    "    This module contains the AST visitor class.\n",
    "\"\"\"\n",
    "\n",
    "from abc import ABC, abstractmethod\n",
    "from multipledispatch import dispatch\n",
    "from hulk_compiler.parser.ast.ast import (\n",
    "    ASTNode,\n",
    "    While,\n",
    "    If,\n",
    ")\n",
    "\n",
    "\n",
    "class IVisitor(ABC):\n",
    "    \"\"\"\n",
    "    Interface for visitor classes that implement the visitor pattern.\n",
    "    \"\"\"\n",
    "\n",
    "    @abstractmethod\n",
    "    def visit_node(self, node, context):\n",
    "        \"\"\"\n",
    "        Abstract method for visiting a node in the AST.\n",
    "\n",
    "        Args:\n",
    "            node: The node to be visited.\n",
    "            context: The context object for the visitor.\n",
    "\n",
    "        Returns:\n",
    "            None\n",
    "        \"\"\"\n",
    "\n",
    "\n",
    "class ASTVisitor(IVisitor):\n",
    "    \"\"\"\n",
    "    This class represents an abstract syntax tree (AST) visitor.\n",
    "    It provides methods to visit different nodes in the AST.\n",
    "    \"\"\"\n",
    "\n",
    "    @dispatch(While)\n",
    "    def visit_node(self, node: While, context):\n",
    "        pass\n",
    "\n",
    "    @dispatch(If)\n",
    "    def visit_node(self, node: If, context):\n",
    "        pass"
   ]
  }
 ],
 "metadata": {
  "kernelspec": {
   "display_name": "Python 3",
   "language": "python",
   "name": "python3"
  },
  "language_info": {
   "codemirror_mode": {
    "name": "ipython",
    "version": 3
   },
   "file_extension": ".py",
   "mimetype": "text/x-python",
   "name": "python",
   "nbconvert_exporter": "python",
   "pygments_lexer": "ipython3",
   "version": "3.10.12"
  }
 },
 "nbformat": 4,
 "nbformat_minor": 2
}
